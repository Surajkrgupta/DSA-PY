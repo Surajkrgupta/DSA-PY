{
 "cells": [
  {
   "cell_type": "code",
   "execution_count": 11,
   "id": "4a80e64c",
   "metadata": {},
   "outputs": [
    {
     "data": {
      "text/plain": [
       "5"
      ]
     },
     "execution_count": 11,
     "metadata": {},
     "output_type": "execute_result"
    }
   ],
   "source": [
    "def binary_search(array,key):\n",
    "    l=len(array)\n",
    "    start=0\n",
    "    end=l-1\n",
    "    while start<end:\n",
    "        mid=int((end+start)/2)\n",
    "        if array[mid]==key:\n",
    "            return mid\n",
    "        if array[mid]<key:\n",
    "            start=mid+1\n",
    "        else:\n",
    "            end=mid-1\n",
    "    return -1\n",
    "array=[1,2,4,5,6,54,78,96,105,114,204,254]\n",
    "binary_search(array,54)"
   ]
  },
  {
   "cell_type": "code",
   "execution_count": null,
   "id": "3d5bc66b",
   "metadata": {},
   "outputs": [],
   "source": []
  }
 ],
 "metadata": {
  "kernelspec": {
   "display_name": "Python 3 (ipykernel)",
   "language": "python",
   "name": "python3"
  },
  "language_info": {
   "codemirror_mode": {
    "name": "ipython",
    "version": 3
   },
   "file_extension": ".py",
   "mimetype": "text/x-python",
   "name": "python",
   "nbconvert_exporter": "python",
   "pygments_lexer": "ipython3",
   "version": "3.9.13"
  }
 },
 "nbformat": 4,
 "nbformat_minor": 5
}
