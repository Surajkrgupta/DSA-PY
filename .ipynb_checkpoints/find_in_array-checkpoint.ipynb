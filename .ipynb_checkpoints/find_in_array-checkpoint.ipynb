{
 "cells": [
  {
   "cell_type": "code",
   "execution_count": 4,
   "id": "bea6ae49",
   "metadata": {},
   "outputs": [
    {
     "data": {
      "text/plain": [
       "10"
      ]
     },
     "execution_count": 4,
     "metadata": {},
     "output_type": "execute_result"
    }
   ],
   "source": [
    "def find_in_array(n,k):\n",
    "    for i in range(len(n)):\n",
    "        if n[i]==k:\n",
    "            return i\n",
    "    return -1\n",
    "array=[1,4,5,6,33,4,2,1,2,22,14,1]\n",
    "k=14\n",
    "find_in_array(array,k)"
   ]
  },
  {
   "cell_type": "code",
   "execution_count": null,
   "id": "084d4478",
   "metadata": {},
   "outputs": [],
   "source": []
  }
 ],
 "metadata": {
  "kernelspec": {
   "display_name": "Python 3 (ipykernel)",
   "language": "python",
   "name": "python3"
  },
  "language_info": {
   "codemirror_mode": {
    "name": "ipython",
    "version": 3
   },
   "file_extension": ".py",
   "mimetype": "text/x-python",
   "name": "python",
   "nbconvert_exporter": "python",
   "pygments_lexer": "ipython3",
   "version": "3.9.13"
  }
 },
 "nbformat": 4,
 "nbformat_minor": 5
}
